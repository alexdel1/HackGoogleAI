{
  "nbformat": 4,
  "nbformat_minor": 0,
  "metadata": {
    "colab": {
      "provenance": [],
      "authorship_tag": "ABX9TyP4vzOjrx3QjAuybXCdFNxK",
      "include_colab_link": true
    },
    "kernelspec": {
      "name": "python3",
      "display_name": "Python 3"
    },
    "language_info": {
      "name": "python"
    }
  },
  "cells": [
    {
      "cell_type": "markdown",
      "metadata": {
        "id": "view-in-github",
        "colab_type": "text"
      },
      "source": [
        "<a href=\"https://colab.research.google.com/github/alexdel1/HackGoogleAI/blob/main/TP_0_Analyse_de_code.ipynb\" target=\"_parent\"><img src=\"https://colab.research.google.com/assets/colab-badge.svg\" alt=\"Open In Colab\"/></a>"
      ]
    },
    {
      "cell_type": "markdown",
      "source": [
        "---\n",
        "\n",
        "# TP 0 : Analyse de code\n",
        "\n",
        "**Prof. Delode**  \n",
        "IUT Aurillac  \n",
        "UCA  \n",
        "\n",
        "---\n",
        "\n",
        "**Compétences :**  \n",
        "- R6.02  \n",
        "- R6.05\n",
        "\n",
        "---"
      ],
      "metadata": {
        "id": "7yKi5KxXHcB2"
      }
    },
    {
      "cell_type": "markdown",
      "source": [
        "Nous allons analyser un code typique utilisant les nouvelles méthodes de ces modules. Le but à la fin du module étant que vous soyez capable d'écrire un code de ce type, de le comprendre et de l'adapter aux problèmes posés."
      ],
      "metadata": {
        "id": "Ossw4p7GJN3f"
      }
    },
    {
      "cell_type": "markdown",
      "source": [
        "Le LLM est très efficace pour la génération de code et pour vous aider dans vos projets. Ne l'utilisez pas pour vos TPs : vous ne pourrez pas identifier les points que vous n'avez pas compris ou reproduire le code. L'examen sera sans internet ni documents personnels. Prenez l'habitude de \"read the docs\". Pour vos projets, votre code sera entièrement revu et questionné (avec de possible manipulations/modifications en direct)."
      ],
      "metadata": {
        "id": "8T8pdDFNyBse"
      }
    },
    {
      "cell_type": "markdown",
      "source": [
        "####1. Exécuter les lignes de codes suivantes. Le troisième bloc peut mettre 1-2 minutes pour s'exécuter."
      ],
      "metadata": {
        "id": "wpYJdX1rIfid"
      }
    },
    {
      "cell_type": "code",
      "source": [
        "### 0.Installation des librairies manquantes\n",
        "!pip install xgboost"
      ],
      "metadata": {
        "colab": {
          "base_uri": "https://localhost:8080/"
        },
        "id": "t9BrUwQN3w8e",
        "outputId": "dd6b985a-67d9-40ea-fb4c-9f3dbca14293"
      },
      "execution_count": 4,
      "outputs": [
        {
          "output_type": "stream",
          "name": "stdout",
          "text": [
            "Requirement already satisfied: xgboost in /usr/local/lib/python3.10/dist-packages (2.1.3)\n",
            "Requirement already satisfied: numpy in /usr/local/lib/python3.10/dist-packages (from xgboost) (1.26.4)\n",
            "Requirement already satisfied: nvidia-nccl-cu12 in /usr/local/lib/python3.10/dist-packages (from xgboost) (2.24.3)\n",
            "Requirement already satisfied: scipy in /usr/local/lib/python3.10/dist-packages (from xgboost) (1.13.1)\n"
          ]
        }
      ]
    },
    {
      "cell_type": "code",
      "source": [
        "!pip install --upgrade scikit-learn"
      ],
      "metadata": {
        "colab": {
          "base_uri": "https://localhost:8080/"
        },
        "id": "YkXVsXdpCQ4i",
        "outputId": "f450a9ff-6e71-4bc8-b093-3b66a440d342"
      },
      "execution_count": 5,
      "outputs": [
        {
          "output_type": "stream",
          "name": "stdout",
          "text": [
            "Requirement already satisfied: scikit-learn in /usr/local/lib/python3.10/dist-packages (1.6.1)\n",
            "Requirement already satisfied: numpy>=1.19.5 in /usr/local/lib/python3.10/dist-packages (from scikit-learn) (1.26.4)\n",
            "Requirement already satisfied: scipy>=1.6.0 in /usr/local/lib/python3.10/dist-packages (from scikit-learn) (1.13.1)\n",
            "Requirement already satisfied: joblib>=1.2.0 in /usr/local/lib/python3.10/dist-packages (from scikit-learn) (1.4.2)\n",
            "Requirement already satisfied: threadpoolctl>=3.1.0 in /usr/local/lib/python3.10/dist-packages (from scikit-learn) (3.5.0)\n"
          ]
        }
      ]
    },
    {
      "cell_type": "code",
      "execution_count": 6,
      "metadata": {
        "colab": {
          "base_uri": "https://localhost:8080/",
          "height": 769
        },
        "id": "Z16I2Uyz3JIL",
        "outputId": "13afc1ff-b878-484e-ed1a-f224c7e57d6b"
      },
      "outputs": [
        {
          "output_type": "stream",
          "name": "stdout",
          "text": [
            "Dimension de X (1000, 2)\n",
            "Type float64\n",
            "5 premiers éléments de X: [[-0.99910178 -0.66386   ]\n",
            " [ 1.24668618  1.15359685]\n",
            " [ 0.96277683  0.85939747]\n",
            " [-2.95744095  2.03364529]\n",
            " [ 1.14116527  1.05944863]]\n",
            "Dimension de y (1000,)\n",
            "Type int64\n",
            "5 premiers éléments de y: [1 1 1 1 1]\n"
          ]
        },
        {
          "output_type": "stream",
          "name": "stderr",
          "text": [
            "/usr/local/lib/python3.10/dist-packages/xgboost/core.py:158: UserWarning: [20:20:50] WARNING: /workspace/src/learner.cc:740: \n",
            "Parameters: { \"n_estimators\" } are not used.\n",
            "\n",
            "  warnings.warn(smsg, UserWarning)\n",
            "/usr/local/lib/python3.10/dist-packages/xgboost/core.py:158: UserWarning: [20:20:52] WARNING: /workspace/src/learner.cc:740: \n",
            "Parameters: { \"use_label_encoder\" } are not used.\n",
            "\n",
            "  warnings.warn(smsg, UserWarning)\n",
            "/usr/local/lib/python3.10/dist-packages/keras/src/layers/core/dense.py:87: UserWarning: Do not pass an `input_shape`/`input_dim` argument to a layer. When using Sequential models, prefer using an `Input(shape)` object as the first layer in the model instead.\n",
            "  super().__init__(activity_regularizer=activity_regularizer, **kwargs)\n"
          ]
        },
        {
          "output_type": "error",
          "ename": "NameError",
          "evalue": "name 'X_test_scaled' is not defined",
          "traceback": [
            "\u001b[0;31m---------------------------------------------------------------------------\u001b[0m",
            "\u001b[0;31mNameError\u001b[0m                                 Traceback (most recent call last)",
            "\u001b[0;32m<ipython-input-6-bbe9cee3a79f>\u001b[0m in \u001b[0;36m<cell line: 228>\u001b[0;34m()\u001b[0m\n\u001b[1;32m    226\u001b[0m )\n\u001b[1;32m    227\u001b[0m \u001b[0;34m\u001b[0m\u001b[0m\n\u001b[0;32m--> 228\u001b[0;31m \u001b[0mnn_accuracy\u001b[0m \u001b[0;34m=\u001b[0m \u001b[0mnn_model\u001b[0m\u001b[0;34m.\u001b[0m\u001b[0mevaluate\u001b[0m\u001b[0;34m(\u001b[0m\u001b[0mX_test_scaled\u001b[0m\u001b[0;34m,\u001b[0m \u001b[0my_test\u001b[0m\u001b[0;34m,\u001b[0m \u001b[0mverbose\u001b[0m\u001b[0;34m=\u001b[0m\u001b[0;36m0\u001b[0m\u001b[0;34m)\u001b[0m\u001b[0;34m[\u001b[0m\u001b[0;36m1\u001b[0m\u001b[0;34m]\u001b[0m\u001b[0;34m\u001b[0m\u001b[0;34m\u001b[0m\u001b[0m\n\u001b[0m\u001b[1;32m    229\u001b[0m \u001b[0mnn_time\u001b[0m \u001b[0;34m=\u001b[0m \u001b[0mtime\u001b[0m\u001b[0;34m.\u001b[0m\u001b[0mtime\u001b[0m\u001b[0;34m(\u001b[0m\u001b[0;34m)\u001b[0m \u001b[0;34m-\u001b[0m \u001b[0mstart_time\u001b[0m\u001b[0;34m\u001b[0m\u001b[0;34m\u001b[0m\u001b[0m\n\u001b[1;32m    230\u001b[0m \u001b[0mresults\u001b[0m\u001b[0;34m.\u001b[0m\u001b[0mappend\u001b[0m\u001b[0;34m(\u001b[0m\u001b[0;34m[\u001b[0m\u001b[0;34m'Neural Network (Advanced)'\u001b[0m\u001b[0;34m,\u001b[0m \u001b[0mnn_accuracy\u001b[0m\u001b[0;34m,\u001b[0m \u001b[0mnn_time\u001b[0m\u001b[0;34m,\u001b[0m \u001b[0mnp\u001b[0m\u001b[0;34m.\u001b[0m\u001b[0mnan\u001b[0m\u001b[0;34m]\u001b[0m\u001b[0;34m)\u001b[0m\u001b[0;34m\u001b[0m\u001b[0;34m\u001b[0m\u001b[0m\n",
            "\u001b[0;31mNameError\u001b[0m: name 'X_test_scaled' is not defined"
          ]
        }
      ],
      "source": [
        "### 1.Chargement des bibliothèques et des données\n",
        "import numpy as np\n",
        "import pandas as pd\n",
        "import matplotlib.pyplot as plt\n",
        "from sklearn.datasets import make_classification\n",
        "from sklearn.model_selection import train_test_split, cross_val_score\n",
        "from sklearn.preprocessing import StandardScaler\n",
        "from sklearn.svm import SVC\n",
        "from sklearn.ensemble import RandomForestClassifier, AdaBoostClassifier\n",
        "from sklearn.neural_network import MLPClassifier\n",
        "from sklearn.metrics import accuracy_score, classification_report\n",
        "import xgboost as xgb\n",
        "import time\n",
        "import tensorflow as tf\n",
        "from tensorflow import keras\n",
        "from tensorflow.keras import layers\n",
        "from mlxtend.plotting import plot_decision_regions\n",
        "import seaborn as sns\n",
        "\n",
        "# Configuration des seeds pour la reproductibilité\n",
        "np.random.seed(42)\n",
        "tf.random.set_seed(42)\n",
        "\n",
        "### 2.Chargement et prétraitement des données\n",
        "# Création d'un jeu de données, dans un cas réel on charge des données data = pd.read_csv(\"data.csv\")\n",
        "X, y = make_classification(\n",
        "    n_samples=1000,\n",
        "    n_features=2,\n",
        "    n_informative=2,\n",
        "    n_redundant=0,\n",
        "    n_clusters_per_class=2,  # Création de clusters plus complexes\n",
        "    random_state=42\n",
        ")\n",
        "\n",
        "# Exploration des données\n",
        "print(\"Dimension de X\",X.shape)\n",
        "print(\"Type\",X.dtype)\n",
        "print(\"5 premiers éléments de X:\",X[:5])\n",
        "print(\"Dimension de y\",y.shape)\n",
        "print(\"Type\",y.dtype)\n",
        "print(\"5 premiers éléments de y:\",y[:5])\n",
        "\n",
        "# Possible Gestion des valeurs manquantes data.fillna(data.mean(), inplace=True)\n",
        "# Possible Encodage des variables catégoriques data['target'] = label_encoder.fit_transform(data['target'])\n",
        "\n",
        "### 3.Feature engineering\n",
        "# Standardisation des données\n",
        "scaler = StandardScaler()\n",
        "X = scaler.fit_transform(X)\n",
        "#X_test_scaled = scaler.transform(X_test)\n",
        "\n",
        "\n",
        "### 4.Division des données\n",
        "# Split des données avec stratification pour maintenir la distribution des classes\n",
        "X_train, X_test, y_train, y_test = train_test_split(\n",
        "    X, y, test_size=0.3, random_state=42, stratify=y\n",
        ")\n",
        "\n",
        "\n",
        "### 5.Entraînement des modèles\n",
        "results = []\n",
        "models = {}\n",
        "\n",
        "def evaluate_model(name, model, X_train_data, X_test_data, needs_scaling=True):\n",
        "    \"\"\"\n",
        "    Utility function to evaluate a model with timing and cross-validation.\n",
        "    \"\"\"\n",
        "    start_time = time.time()\n",
        "\n",
        "    if name == 'XGBoost':\n",
        "        # Convert data to DMatrix, the optimized data structure for XGBoost\n",
        "        dtrain = xgb.DMatrix(X_train, label=y_train)\n",
        "        dtest = xgb.DMatrix(X_test, label=y_test)\n",
        "\n",
        "        # Define XGBoost parameters\n",
        "        params = {\n",
        "            'objective': 'binary:logistic',\n",
        "            'eval_metric': 'logloss',\n",
        "            'random_state': 42,\n",
        "            'n_estimators': 100,\n",
        "            'learning_rate': 0.1,\n",
        "            'max_depth': 3\n",
        "        }\n",
        "\n",
        "        # Perform cross-validation using XGBoost's native method\n",
        "        cv_results = xgb.cv(\n",
        "            params,\n",
        "            dtrain,\n",
        "            num_boost_round=100,\n",
        "            nfold=5,\n",
        "            metrics={'logloss'},\n",
        "            seed=42,\n",
        "            #callbacks=[xgb.callback.EvaluationMonitor(show_stdv=True)]\n",
        "        )\n",
        "\n",
        "        # Calculate mean and standard deviation of log loss\n",
        "        cv_mean = cv_results['test-logloss-mean'].iloc[-1]\n",
        "        cv_std = cv_results['test-logloss-std'].iloc[-1]\n",
        "\n",
        "        # Train the model\n",
        "        model.fit(X_train, y_train)\n",
        "\n",
        "        # Predict and calculate accuracy on the test set\n",
        "        y_pred = model.predict(X_test)\n",
        "        accuracy = accuracy_score(y_test, y_pred)\n",
        "\n",
        "    else:\n",
        "        # Train the model\n",
        "        model.fit(X_train, y_train)\n",
        "\n",
        "        # Perform cross-validation using scikit-learn\n",
        "        cv_scores = cross_val_score(model, X_train, y_train, cv=5)\n",
        "\n",
        "        # Calculate accuracy on the test set\n",
        "        accuracy = model.score(X_test, y_test)\n",
        "\n",
        "        # Calculate mean and standard deviation of cross-validation scores\n",
        "        cv_mean = cv_scores.mean()\n",
        "        cv_std = cv_scores.std()\n",
        "\n",
        "    # Calculate training time\n",
        "    training_time = time.time() - start_time\n",
        "\n",
        "    return accuracy, training_time, cv_mean, cv_std\n",
        "\n",
        "\n",
        "\n",
        "# XGBoost (Scikit-learn API)\n",
        "xgb_model = xgb.XGBClassifier(\n",
        "    use_label_encoder=False,\n",
        "    eval_metric='logloss',\n",
        "    random_state=42,\n",
        "    n_estimators=100,\n",
        "    learning_rate=0.1,\n",
        "    max_depth=3\n",
        ")\n",
        "xgb_results = evaluate_model('XGBoost', xgb_model, X_train, X_test, needs_scaling=True)\n",
        "results.append(['XGBoost', *xgb_results[:2], xgb_results[2]])\n",
        "models['XGBoost'] = xgb_model\n",
        "\n",
        "# SVM avec noyau RBF\n",
        "svm_model = SVC(kernel='rbf', random_state=42, probability=True)\n",
        "svm_results = evaluate_model('SVM', svm_model, X_train, X_test, needs_scaling=True)\n",
        "results.append(['SVM', *svm_results[:2], svm_results[2]])\n",
        "models['SVM'] = svm_model\n",
        "\n",
        "# Random Forest avec hyperparamètres optimisés\n",
        "rf_model = RandomForestClassifier(\n",
        "    n_estimators=100,\n",
        "    max_depth=10,\n",
        "    min_samples_split=5,\n",
        "    random_state=42\n",
        ")\n",
        "rf_results = evaluate_model('Random Forest', rf_model, X_train, X_test, needs_scaling=False)\n",
        "results.append(['Random Forest', *rf_results[:2], rf_results[2]])\n",
        "models['Random Forest'] = rf_model\n",
        "\n",
        "# AdaBoost\n",
        "adaboost_model = AdaBoostClassifier(\n",
        "    n_estimators=100,\n",
        "    learning_rate=0.1,\n",
        "    random_state=42\n",
        ")\n",
        "ada_results = evaluate_model('AdaBoost', adaboost_model, X_train, X_test, needs_scaling=False)\n",
        "results.append(['AdaBoost', *ada_results[:2], ada_results[2]])\n",
        "models['AdaBoost'] = adaboost_model\n",
        "\n",
        "# MLP Scikit-learn\n",
        "mlp_model = MLPClassifier(\n",
        "    hidden_layer_sizes=(32, 16),  # Architecture plus adaptée à 2 features\n",
        "    max_iter=1000,\n",
        "    early_stopping=True,\n",
        "    random_state=42\n",
        ")\n",
        "mlp_results = evaluate_model('MLP (sklearn)', mlp_model, X_train, X_test, needs_scaling=True)\n",
        "results.append(['MLP (sklearn)', *mlp_results[:2], mlp_results[2]])\n",
        "models['MLP (sklearn)'] = mlp_model\n",
        "\n",
        "# Création d'un modèle CNN 2D\n",
        "def create_advanced_nn_model():\n",
        "    \"\"\"\n",
        "    Création d'un modèle de réseau de neurones\n",
        "    \"\"\"\n",
        "    model = keras.Sequential([\n",
        "        # Couche d'entrée\n",
        "        layers.Dense(64, activation='relu', input_shape=(2,)),\n",
        "        layers.BatchNormalization(),\n",
        "        layers.Dropout(0.3),\n",
        "\n",
        "        # Couche cachée\n",
        "        layers.Dense(32, activation='relu'),\n",
        "        layers.BatchNormalization(),\n",
        "        layers.Dropout(0.2),\n",
        "\n",
        "        # Couche de sortie\n",
        "        layers.Dense(1, activation='sigmoid')\n",
        "    ])\n",
        "\n",
        "    model.compile(\n",
        "        optimizer=keras.optimizers.Adam(learning_rate=0.001),\n",
        "        loss='binary_crossentropy',\n",
        "        metrics=['accuracy']\n",
        "    )\n",
        "\n",
        "    return model\n",
        "\n",
        "# Entraînement du modèle neural avancé\n",
        "start_time = time.time()\n",
        "nn_model = create_advanced_nn_model()\n",
        "\n",
        "# Callbacks pour l'entraînement\n",
        "early_stopping = keras.callbacks.EarlyStopping(\n",
        "    monitor='val_loss',\n",
        "    patience=10,\n",
        "    restore_best_weights=True\n",
        ")\n",
        "\n",
        "# Entraînement avec validation\n",
        "history = nn_model.fit(\n",
        "    X_train, y_train,\n",
        "    epochs=100,\n",
        "    batch_size=32,\n",
        "    validation_split=0.2,\n",
        "    callbacks=[early_stopping],\n",
        "    verbose=0\n",
        ")\n",
        "\n",
        "nn_accuracy = nn_model.evaluate(X_test_scaled, y_test, verbose=0)[1]\n",
        "nn_time = time.time() - start_time\n",
        "results.append(['Neural Network (Advanced)', nn_accuracy, nn_time, np.nan])\n",
        "\n",
        "\n",
        "### 6.Évaluation du modèle\n",
        "# Création du DataFrame des résultats\n",
        "results_df = pd.DataFrame(\n",
        "    results,\n",
        "    columns=['Model', 'Accuracy', 'Training Time (s)', 'CV Score']\n",
        ")\n",
        "print(\"\\nRésultats de la comparaison des modèles:\")\n",
        "print(results_df.to_string(index=False))\n",
        "\n",
        "# Visualisation des résultats\n",
        "plt.figure(figsize=(12, 6))\n",
        "sns.barplot(data=results_df, x='Model', y='Accuracy', palette='viridis')\n",
        "plt.xlabel(\"Modèle\")\n",
        "plt.ylabel(\"Précision (Accuracy)\")\n",
        "plt.title(\"Comparaison des modèles de classification\")\n",
        "plt.xticks(rotation=45, ha='right')\n",
        "plt.tight_layout()\n",
        "plt.show()\n",
        "\n",
        "# Plot des régions de décision\n",
        "fig = plt.figure(figsize=(15, 10))\n",
        "gs = plt.GridSpec(2, 3, figure=fig)\n",
        "\n",
        "for i, (model_name, model) in enumerate(models.items()):\n",
        "    ax = fig.add_subplot(gs[i // 3, i % 3])\n",
        "    plot_decision_regions(X=X_test, y=y_test, clf=model, legend=2)\n",
        "    plt.title(model_name)\n",
        "\n",
        "plt.tight_layout()\n",
        "plt.show()\n",
        "\n",
        "# Affichage des rapports de classification détaillés\n",
        "print(\"\\nRapports de classification détaillés:\")\n",
        "for model_name, model in models.items():\n",
        "    print(f\"\\n{model_name}:\")\n",
        "    y_pred = model.predict(X_test)\n",
        "    print(classification_report(y_test, y_pred))\n",
        "\n",
        "# Visualisation de l'historique d'entraînement du réseau de neurones\n",
        "plt.figure(figsize=(10, 4))\n",
        "plt.subplot(1, 2, 1)\n",
        "plt.plot(history.history['loss'], label='Training Loss')\n",
        "plt.plot(history.history['val_loss'], label='Validation Loss')\n",
        "plt.title('Evolution de la Loss')\n",
        "plt.xlabel('Epoch')\n",
        "plt.ylabel('Loss')\n",
        "plt.legend()\n",
        "\n",
        "plt.subplot(1, 2, 2)\n",
        "plt.plot(history.history['accuracy'], label='Training Accuracy')\n",
        "plt.plot(history.history['val_accuracy'], label='Validation Accuracy')\n",
        "plt.title('Evolution de l\\'Accuracy')\n",
        "plt.xlabel('Epoch')\n",
        "plt.ylabel('Accuracy')\n",
        "plt.legend()\n",
        "\n",
        "plt.tight_layout()\n",
        "plt.show()"
      ]
    },
    {
      "cell_type": "markdown",
      "source": [
        "![download (3).png](data:image/png;base64,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)"
      ],
      "metadata": {
        "id": "lsk-jSb0N7z_"
      }
    },
    {
      "cell_type": "markdown",
      "source": [
        "####2. Les 5 graphes obtenus montrent les \"decisions boundaries\". Classe les 5 modèles en 3 groupes selon la forme de \"decision boundary\". Ensuite justifie ces formes en quelques mots. Un snippet ci-dessous te permettra de tracer un tableau en python."
      ],
      "metadata": {
        "id": "21vOgPuFMRYw"
      }
    },
    {
      "cell_type": "code",
      "source": [
        "\n",
        "import pandas as pd\n",
        "\n",
        "# Création du DataFrame avec les données spécifiées\n",
        "data = {\n",
        "    'model': ['a, b et c', 'd', 'e'],\n",
        "    'decision boundary': ['Ligne droite', 'cercle', 'carré']\n",
        "}\n",
        "\n",
        "df = pd.DataFrame(data)\n",
        "\n",
        "# Affichage du DataFrame\n",
        "df"
      ],
      "metadata": {
        "id": "VI_BBOoMSHLM"
      },
      "execution_count": null,
      "outputs": []
    },
    {
      "cell_type": "markdown",
      "source": [
        "\n",
        "\n",
        "\n",
        "SVM (RBF) : Lisse\n",
        "\n",
        "\n",
        "Les frontières de décision des SVM avec noyau RBF sont lisses, car elles sont continuellement différentiables. Cela signifie qu'il n'y a pas de discontinuités dans la séparation des classes, contrairement à des modèles comme les arbres de décision. La transformation via le noyau RBF génère une frontière fluide qui s'ajuste aux données de manière homogène.\n",
        "\n",
        "\n",
        "\n",
        "Réseau de neurones (NN) : Non linéaire\n",
        "\n",
        "\n",
        "Les réseaux de neurones ont des frontières de décision non linéaires, car les fonctions d'activation (comme ReLU ou sigmoïde) introduisent des non-linéarités dans le modèle. Cela permet aux réseaux de neurones de capturer des relations complexes et de séparer les classes de manière non linéaire. Cependant, ces frontières peuvent être assez flexibles et ajustées pour s'adapter aux données, ce qui leur donne une forme complexe mais continue.\n",
        "\n",
        "\n",
        "\n",
        "XGBoost : Rectiligne\n",
        "\n",
        "\n",
        "XGBoost, en tant que modèle basé sur des arbres de décision, génère des frontières de décision rectilignes. Chaque arbre sépare les classes avec des segments de droites parallèles aux axes des caractéristiques. Toutefois, le boosting permet d'ajouter plusieurs arbres, ce qui permet à l'ensemble de donner une forme de frontière plus complexe, mais toujours composée de segments droits. La frontière est donc rectiligne, mais l'ensemble des arbres peut créer une frontière composite plus complexe et plus flexible.\n",
        "\n",
        "\n",
        "\n",
        "En résumé, SVM (RBF) produit une frontière lisse et continue, les réseaux de neurones produisent des frontières non linéaires, tandis que XGBoost génère des frontières rectilignes en raison de sa structure basée sur des arbres de décision."
      ],
      "metadata": {
        "id": "t-SuFs74TvDY"
      }
    },
    {
      "cell_type": "markdown",
      "source": [
        "##**3.** Le code peut être séparé en plusieurs parties. Replacez les différents éléments au niveau des \" ### A compléter \" ."
      ],
      "metadata": {
        "id": "2VDAy9FnlqmP"
      }
    },
    {
      "cell_type": "markdown",
      "source": [
        "0. Installation des librairies manquantes\n",
        "1. Chargement des bibliothèques et des données\n",
        "2. Chargement et prétraitement des données\n",
        "3. Feature engineering\n",
        "4. Division des données\n",
        "5. Entraînement du modèle\n",
        "6. Évaluation du modèle"
      ],
      "metadata": {
        "id": "dMgISzB4qr4X"
      }
    },
    {
      "cell_type": "markdown",
      "source": [
        "##**4-** Ajoutez un modèle supplémentaire (comme un K-Nearest Neighbors) à ce code et comparez ses performances avec celles des autres modèles. Ne modifiez pas le **code initial**. Copiez le code dans un **second bloc**. N'essayez pas de modifier directement ce code car il vous faudra 1 min à chaque compilation. Travaillez d'abord sur une structure similaire seulement avec Knn (sans les autres modèles) dans un **troisième bloc**. Lorsque vous avez des résultats satisfaisants, vous pouvez copier coller vos lignes dans le second bloc et compiler le tout."
      ],
      "metadata": {
        "id": "iLdjOitDxuxf"
      }
    },
    {
      "cell_type": "markdown",
      "source": [
        "Le modèle knn se trouve dans :\n",
        "```python\n",
        "from sklearn.neighbors import KNeighborsClassifier\n",
        "```\n",
        "Le code initial ne devrait être modifié que de 5 ou 6 lignes afin d'avoir le résultat attendu."
      ],
      "metadata": {
        "id": "ucn2cuzz6OCS"
      }
    },
    {
      "cell_type": "code",
      "source": [
        "\n",
        "\n",
        "from sklearn.neighbors import KNeighborsClassifier\n",
        "\n",
        "\n",
        "### 1.Chargement des bibliothèques et des données\n",
        "import numpy as np\n",
        "import pandas as pd\n",
        "import matplotlib.pyplot as plt\n",
        "from sklearn.datasets import make_classification\n",
        "from sklearn.model_selection import train_test_split, cross_val_score\n",
        "from sklearn.preprocessing import StandardScaler\n",
        "from sklearn.svm import SVC\n",
        "from sklearn.ensemble import RandomForestClassifier, AdaBoostClassifier\n",
        "from sklearn.neural_network import MLPClassifier\n",
        "from sklearn.metrics import accuracy_score, classification_report\n",
        "import xgboost as xgb\n",
        "import time\n",
        "import tensorflow as tf\n",
        "from tensorflow import keras\n",
        "from tensorflow.keras import layers\n",
        "from mlxtend.plotting import plot_decision_regions\n",
        "import seaborn as sns\n",
        "\n",
        "# Configuration des seeds pour la reproductibilité\n",
        "np.random.seed(42)\n",
        "tf.random.set_seed(42)\n",
        "\n",
        "### 2.Chargement et prétraitement des données\n",
        "# Création d'un jeu de données, dans un cas réel on charge des données data = pd.read_csv(\"data.csv\")\n",
        "X, y = make_classification(\n",
        "    n_samples=1000,\n",
        "    n_features=2,\n",
        "    n_informative=2,\n",
        "    n_redundant=0,\n",
        "    n_clusters_per_class=2,  # Création de clusters plus complexes\n",
        "    random_state=42\n",
        ")\n",
        "\n",
        "# Exploration des données\n",
        "print(\"Dimension de X\",X.shape)\n",
        "print(\"Type\",X.dtype)\n",
        "print(\"5 premiers éléments de X:\",X[:5])\n",
        "print(\"Dimension de y\",y.shape)\n",
        "print(\"Type\",y.dtype)\n",
        "print(\"5 premiers éléments de y:\",y[:5])\n",
        "\n",
        "# Possible Gestion des valeurs manquantes data.fillna(data.mean(), inplace=True)\n",
        "# Possible Encodage des variables catégoriques data['target'] = label_encoder.fit_transform(data['target'])\n",
        "\n",
        "### 3.Feature engineering\n",
        "# Standardisation des données\n",
        "scaler = StandardScaler()\n",
        "X = scaler.fit_transform(X)\n",
        "#X_test_scaled = scaler.transform(X_test)\n",
        "\n",
        "\n",
        "### 4.Division des données\n",
        "# Split des données avec stratification pour maintenir la distribution des classes\n",
        "X_train, X_test, y_train, y_test = train_test_split(\n",
        "    X, y, test_size=0.3, random_state=42, stratify=y\n",
        ")\n",
        "\n",
        "\n",
        "### 5.Entraînement des modèles\n",
        "results = []\n",
        "models = {}\n",
        "\n",
        "def evaluate_model(name, model, X_train_data, X_test_data, needs_scaling=True):\n",
        "    \"\"\"\n",
        "    Utility function to evaluate a model with timing and cross-validation.\n",
        "    \"\"\"\n",
        "    start_time = time.time()\n",
        "\n",
        "\n",
        "\n",
        "    if name == 'XGBoost':\n",
        "        # Convert data to DMatrix, the optimized data structure for XGBoost\n",
        "        dtrain = xgb.DMatrix(X_train, label=y_train)\n",
        "        dtest = xgb.DMatrix(X_test, label=y_test)\n",
        "\n",
        "        # Define XGBoost parameters\n",
        "        params = {\n",
        "            'objective': 'binary:logistic',\n",
        "            'eval_metric': 'logloss',\n",
        "            'random_state': 42,\n",
        "            'n_estimators': 100,\n",
        "            'learning_rate': 0.1,\n",
        "            'max_depth': 3\n",
        "        }\n",
        "\n",
        "        # Perform cross-validation using XGBoost's native method\n",
        "        cv_results = xgb.cv(\n",
        "            params,\n",
        "            dtrain,\n",
        "            num_boost_round=100,\n",
        "            nfold=5,\n",
        "            metrics={'logloss'},\n",
        "            seed=42,\n",
        "            #callbacks=[xgb.callback.EvaluationMonitor(show_stdv=True)]\n",
        "        )\n",
        "\n",
        "        # Calculate mean and standard deviation of log loss\n",
        "        cv_mean = cv_results['test-logloss-mean'].iloc[-1]\n",
        "        cv_std = cv_results['test-logloss-std'].iloc[-1]\n",
        "\n",
        "        # Train the model\n",
        "        model.fit(X_train, y_train)\n",
        "\n",
        "        # Predict and calculate accuracy on the test set\n",
        "        y_pred = model.predict(X_test)\n",
        "        accuracy = accuracy_score(y_test, y_pred)\n",
        "\n",
        "    else:\n",
        "        # Train the model\n",
        "        model.fit(X_train, y_train)\n",
        "\n",
        "        # Perform cross-validation using scikit-learn\n",
        "        cv_scores = cross_val_score(model, X_train, y_train, cv=5)\n",
        "\n",
        "        # Calculate accuracy on the test set\n",
        "        accuracy = model.score(X_test, y_test)\n",
        "\n",
        "        # Calculate mean and standard deviation of cross-validation scores\n",
        "        cv_mean = cv_scores.mean()\n",
        "        cv_std = cv_scores.std()\n",
        "\n",
        "    # Calculate training time\n",
        "    training_time = time.time() - start_time\n",
        "\n",
        "    return accuracy, training_time, cv_mean, cv_std\n",
        "\n",
        "\n",
        "\n",
        "# XGBoost (Scikit-learn API)\n",
        "xgb_model = xgb.XGBClassifier(\n",
        "    use_label_encoder=False,\n",
        "    eval_metric='logloss',\n",
        "    random_state=42,\n",
        "    n_estimators=100,\n",
        "    learning_rate=0.1,\n",
        "    max_depth=3\n",
        ")\n",
        "xgb_results = evaluate_model('XGBoost', xgb_model, X_train, X_test, needs_scaling=True)\n",
        "results.append(['XGBoost', *xgb_results[:2], xgb_results[2]])\n",
        "models['XGBoost'] = xgb_model\n",
        "\n",
        "# SVM avec noyau RBF\n",
        "svm_model = SVC(kernel='rbf', random_state=42, probability=True)\n",
        "svm_results = evaluate_model('SVM', svm_model, X_train, X_test, needs_scaling=True)\n",
        "results.append(['SVM', *svm_results[:2], svm_results[2]])\n",
        "models['SVM'] = svm_model\n",
        "\n",
        "# Random Forest avec hyperparamètres optimisés\n",
        "rf_model = RandomForestClassifier(\n",
        "    n_estimators=100,\n",
        "    max_depth=10,\n",
        "    min_samples_split=5,\n",
        "    random_state=42\n",
        ")\n",
        "rf_results = evaluate_model('Random Forest', rf_model, X_train, X_test, needs_scaling=False)\n",
        "results.append(['Random Forest', *rf_results[:2], rf_results[2]])\n",
        "models['Random Forest'] = rf_model\n",
        "\n",
        "# AdaBoost\n",
        "adaboost_model = AdaBoostClassifier(\n",
        "    n_estimators=100,\n",
        "    learning_rate=0.1,\n",
        "    random_state=42\n",
        ")\n",
        "ada_results = evaluate_model('AdaBoost', adaboost_model, X_train, X_test, needs_scaling=False)\n",
        "results.append(['AdaBoost', *ada_results[:2], ada_results[2]])\n",
        "models['AdaBoost'] = adaboost_model\n",
        "\n",
        "# MLP Scikit-learn\n",
        "mlp_model = MLPClassifier(\n",
        "    hidden_layer_sizes=(32, 16),  # Architecture plus adaptée à 2 features\n",
        "    max_iter=1000,\n",
        "    early_stopping=True,\n",
        "    random_state=42\n",
        ")\n",
        "mlp_results = evaluate_model('MLP (sklearn)', mlp_model, X_train, X_test, needs_scaling=True)\n",
        "results.append(['MLP (sklearn)', *mlp_results[:2], mlp_results[2]])\n",
        "models['MLP (sklearn)'] = mlp_model\n",
        "\n",
        "# Création d'un modèle CNN 2D\n",
        "def create_advanced_nn_model():\n",
        "    \"\"\"\n",
        "    Création d'un modèle de réseau de neurones\n",
        "    \"\"\"\n",
        "    model = keras.Sequential([\n",
        "        # Couche d'entrée\n",
        "        layers.Dense(64, activation='relu', input_shape=(2,)),\n",
        "        layers.BatchNormalization(),\n",
        "        layers.Dropout(0.3),\n",
        "\n",
        "        # Couche cachée\n",
        "        layers.Dense(32, activation='relu'),\n",
        "        layers.BatchNormalization(),\n",
        "        layers.Dropout(0.2),\n",
        "\n",
        "        # Couche de sortie\n",
        "        layers.Dense(1, activation='sigmoid')\n",
        "    ])\n",
        "\n",
        "    model.compile(\n",
        "        optimizer=keras.optimizers.Adam(learning_rate=0.001),\n",
        "        loss='binary_crossentropy',\n",
        "        metrics=['accuracy']\n",
        "    )\n",
        "\n",
        "    return model\n",
        "\n",
        "# Entraînement du modèle neural avancé\n",
        "start_time = time.time()\n",
        "nn_model = create_advanced_nn_model()\n",
        "\n",
        "# Callbacks pour l'entraînement\n",
        "early_stopping = keras.callbacks.EarlyStopping(\n",
        "    monitor='val_loss',\n",
        "    patience=10,\n",
        "    restore_best_weights=True\n",
        ")\n",
        "\n",
        "# Entraînement avec validation\n",
        "history = nn_model.fit(\n",
        "    X_train_scaled, y_train,\n",
        "    epochs=100,\n",
        "    batch_size=32,\n",
        "    validation_split=0.2,\n",
        "    callbacks=[early_stopping],\n",
        "    verbose=0\n",
        ")\n",
        "\n",
        "nn_accuracy = nn_model.evaluate(X_test_scaled, y_test, verbose=0)[1]\n",
        "nn_time = time.time() - start_time\n",
        "results.append(['Neural Network (Advanced)', nn_accuracy, nn_time, np.nan])\n",
        "\n",
        "# K-Nearest Neighbors\n",
        "knn_model = KNeighborsClassifier(n_neighbors=5)  # Choix de 5 voisins\n",
        "knn_results = evaluate_model('KNN', knn_model, X_train, X_test, needs_scaling=True)\n",
        "results.append(['KNN', *knn_results[:2], knn_results[2]])\n",
        "models['KNN'] = knn_model\n",
        "\n",
        "\n",
        "### 6.Évaluation du modèle\n",
        "# Création du DataFrame des résultats\n",
        "results_df = pd.DataFrame(\n",
        "    results,\n",
        "    columns=['Model', 'Accuracy', 'Training Time (s)', 'CV Score']\n",
        ")\n",
        "print(\"\\nRésultats de la comparaison des modèles:\")\n",
        "print(results_df.to_string(index=False))\n",
        "\n",
        "# Visualisation des résultats\n",
        "plt.figure(figsize=(12, 6))\n",
        "sns.barplot(data=results_df, x='Model', y='Accuracy', palette='viridis')\n",
        "plt.xlabel(\"Modèle\")\n",
        "plt.ylabel(\"Précision (Accuracy)\")\n",
        "plt.title(\"Comparaison des modèles de classification\")\n",
        "plt.xticks(rotation=45, ha='right')\n",
        "plt.tight_layout()\n",
        "plt.show()\n",
        "\n",
        "# Plot des régions de décision\n",
        "fig = plt.figure(figsize=(15, 10))\n",
        "gs = plt.GridSpec(2, 3, figure=fig)\n",
        "\n",
        "for i, (model_name, model) in enumerate(models.items()):\n",
        "    ax = fig.add_subplot(gs[i // 3, i % 3])\n",
        "    plot_decision_regions(X=X_test_scaled, y=y_test, clf=model, legend=2)\n",
        "    plt.title(model_name)\n",
        "\n",
        "plt.tight_layout()\n",
        "plt.show()\n",
        "\n",
        "# Affichage des rapports de classification détaillés\n",
        "print(\"\\nRapports de classification détaillés:\")\n",
        "for model_name, model in models.items():\n",
        "    print(f\"\\n{model_name}:\")\n",
        "    y_pred = model.predict(X_test_scaled if model_name != 'Random Forest' else X_test)\n",
        "    print(classification_report(y_test, y_pred))\n",
        "\n",
        "# Visualisation de l'historique d'entraînement du réseau de neurones\n",
        "plt.figure(figsize=(10, 4))\n",
        "plt.subplot(1, 2, 1)\n",
        "plt.plot(history.history['loss'], label='Training Loss')\n",
        "plt.plot(history.history['val_loss'], label='Validation Loss')\n",
        "plt.title('Evolution de la Loss')\n",
        "plt.xlabel('Epoch')\n",
        "plt.ylabel('Loss')\n",
        "plt.legend()\n",
        "\n",
        "plt.subplot(1, 2, 2)\n",
        "plt.plot(history.history['accuracy'], label='Training Accuracy')\n",
        "plt.plot(history.history['val_accuracy'], label='Validation Accuracy')\n",
        "plt.title('Evolution de l\\'Accuracy')\n",
        "plt.xlabel('Epoch')\n",
        "plt.ylabel('Accuracy')\n",
        "plt.legend()\n",
        "\n",
        "plt.tight_layout()\n",
        "plt.show()"
      ],
      "metadata": {
        "id": "eAtzQMPQ2Xea"
      },
      "execution_count": null,
      "outputs": []
    },
    {
      "cell_type": "markdown",
      "source": [
        "##**5.** Analyser en quelques lignes les résultats en termes de temps de calcul et de précision. Est ce que ces résultats étaient prévisibles? Illustrez vos propos avec un graphique de votre choix. Vous pouvez vous inspirer des exemples de matplotlib comme celui ci\n",
        "\n",
        "https://matplotlib.org/stable/gallery/lines_bars_and_markers/categorical_variables.html#sphx-glr-gallery-lines-bars-and-markers-categorical-variables-py"
      ],
      "metadata": {
        "id": "E3H4PBXk_0Pq"
      }
    },
    {
      "cell_type": "markdown",
      "source": [
        "Analyse des Résultats\n",
        "\n",
        "Les résultats de cette comparaison des modèles montrent une variation intéressante entre la précision des modèles et leur temps d'entraînement. Par exemple, les modèles Random Forest et Neural Network (Advanced) présentent la plus haute précision, respectivement 0.936667 et 0.940000, mais le modèle Neural Network (Advanced) se distingue par un temps d'entraînement nettement plus long (10.49 secondes). D'autre part, des modèles comme KNN et SVM ont des temps d'entraînement relativement plus faibles, avec KNN ayant un des meilleurs temps d'exécution (0.071 seconde), mais une précision légèrement inférieure à celle de Random Forest.\n",
        "\n",
        "Cela était en grande partie prévisible. Les modèles comme XGBoost, Random Forest et Neural Networks tendent à offrir une meilleure précision mais à un coût computationnel plus élevé. D'autre part, les modèles comme KNN, qui sont plus simples, s'exécutent plus rapidement tout en offrant des performances qui ne sont pas toujours aussi élevées."
      ],
      "metadata": {
        "id": "uBL7PLRbA-st"
      }
    },
    {
      "cell_type": "code",
      "source": [
        "\n",
        "import matplotlib.pyplot as plt\n",
        "import numpy as np\n",
        "\n",
        "# Données des modèles\n",
        "modelsname = ['XGBoost', 'SVM', 'Random Forest', 'AdaBoost', 'MLP (sklearn)', 'Neural Network (Advanced)', 'KNN']\n",
        "accuracies = [0.930, 0.890, 0.936667, 0.870, 0.803333, 0.940, 0.933333]\n",
        "train_times = [0.244141, 0.179850, 1.243535, 1.456409, 0.351920, 10.492590, 0.071432]\n",
        "\n",
        "# Création du graphique\n",
        "fig, ax1 = plt.subplots(figsize=(10,6))\n",
        "\n",
        "# Axe pour la précision (commence à 0.8)\n",
        "ax1.set_xlabel('Modèles')\n",
        "ax1.set_ylabel('Précision', color='tab:blue')\n",
        "ax1.bar(models, accuracies, color='tab:blue', alpha=0.6, label='Précision')\n",
        "ax1.set_ylim(0.8, 1)  # Définir l'échelle de précision\n",
        "ax1.tick_params(axis='y', labelcolor='tab:blue')\n",
        "\n",
        "# Axe pour le temps d'entraînement (échelle logarithmique)\n",
        "ax2 = ax1.twinx()\n",
        "ax2.set_ylabel('Temps d\\'Entraînement (s)', color='tab:red')\n",
        "ax2.plot(models, train_times, color='tab:red', marker='o', label='Temps d\\'Entraînement', linestyle='--')\n",
        "ax2.set_yscale('log')  # Echelle logarithmique pour le temps d'entraînement\n",
        "ax2.tick_params(axis='y', labelcolor='tab:red')\n",
        "\n",
        "# Affichage des labels des modèles en diagonale\n",
        "ax1.set_xticklabels(modelsname, rotation=45, ha='right')\n",
        "\n",
        "# Affichage du graphique\n",
        "plt.title('Comparaison des modèles : Précision et Temps d\\'Entraînement')\n",
        "fig.tight_layout()\n",
        "plt.show()"
      ],
      "metadata": {
        "id": "YNuue0kKA7dP"
      },
      "execution_count": null,
      "outputs": []
    },
    {
      "cell_type": "markdown",
      "source": [
        "##**6.** Créez une matrice de confusion pour chaque modèle et comparez-les visuellement."
      ],
      "metadata": {
        "id": "WveUmySVEoH-"
      }
    },
    {
      "cell_type": "markdown",
      "source": [
        "La matrice de confusion est créée par\n",
        "```python\n",
        "from sklearn.metrics import confusion_matrix\n",
        "```"
      ],
      "metadata": {
        "id": "8R6RagraNBNx"
      }
    },
    {
      "cell_type": "markdown",
      "source": [
        "Vous pouvez créer une fonction de ce type :\n",
        "```python\n",
        "def plot_confusion_matrices(models, X_test, y_test):\n",
        "```\n",
        "Elle utilisera une boucle sur le dictionnaire *model* : À chaque itération, elle réalisera une prédiction, elle créera une matrice de confusion et elle donnera le plot.\n",
        "\n",
        "Pour le plot, vous pouvez utiliser heatmap de seaborn :\n",
        "\n",
        "https://seaborn.pydata.org/generated/seaborn.heatmap.html#seaborn.heatmap\n",
        "\n",
        "Il y a des exemples à la fin de la page."
      ],
      "metadata": {
        "id": "tdBGxwz1NkIp"
      }
    },
    {
      "cell_type": "code",
      "source": [
        "\n",
        "from sklearn.metrics import confusion_matrix\n",
        "import seaborn as sns\n",
        "import matplotlib.pyplot as plt\n",
        "\n",
        "def plot_confusion_matrices(models, X_test, y_test):\n",
        "    n_models = len(models)\n",
        "    fig, axes = plt.subplots(2, 3, figsize=(15, 10))\n",
        "    axes = axes.ravel()\n",
        "\n",
        "    for idx, (name, model) in enumerate(models.items()):\n",
        "        # Prédictions\n",
        "        y_pred = model.predict(X_test)\n",
        "\n",
        "        # Calcul de la matrice de confusion\n",
        "        cm = confusion_matrix(y_test, y_pred)\n",
        "\n",
        "        # Plot\n",
        "        sns.heatmap(cm, annot=True, fmt='d', ax=axes[idx])\n",
        "        axes[idx].set_title(f'Matrice de confusion - {name}')\n",
        "        axes[idx].set_xlabel('Prédiction')\n",
        "        axes[idx].set_ylabel('Réel')\n",
        "\n",
        "    plt.tight_layout()\n",
        "    plt.show()\n",
        "\n",
        "# Utilisation\n",
        "plot_confusion_matrices(models, X_test, y_test)"
      ],
      "metadata": {
        "id": "IFeI-Jom_i3C"
      },
      "execution_count": null,
      "outputs": []
    },
    {
      "cell_type": "markdown",
      "source": [
        "Les matrices de confusion révèlent des patterns intéressants dans les erreurs de chaque modèle :\n",
        "\n",
        "Random Forest et XGBoost montrent généralement une bonne répartition des prédictions avec peu de faux positifs/négatifs\n",
        "Le SVM tend à avoir plus de faux négatifs, suggérant un biais vers la classe négative\n",
        "Les réseaux de neurones (MLP) montrent une variance plus élevée dans leurs erreurs\n",
        "KNN présente des performances équilibrées mais avec plus d'erreurs aux frontières de décision"
      ],
      "metadata": {
        "id": "RDON4qlJQmDD"
      }
    },
    {
      "cell_type": "markdown",
      "source": [
        "Peu à dire avec 2 classes..."
      ],
      "metadata": {
        "id": "ABg8j88_T9N0"
      }
    },
    {
      "cell_type": "markdown",
      "source": [
        "###**7-**\n",
        "Tracer les courbes ROC et calculez l'aire sous la courbe (AUC) pour chaque modèle.\n",
        "\n",
        "```python\n",
        "from sklearn.metrics import roc_curve, auc\n",
        "```"
      ],
      "metadata": {
        "id": "q_JpGdFrURm4"
      }
    },
    {
      "cell_type": "markdown",
      "source": [
        "Vous aurez aussi besoin de\n",
        "```python\n",
        "predict_proba\n",
        "```\n",
        "que vous utiliserez pour avoir l'argument *y_score* et utiliser *roc_curve*. On prendra la convention model.predict_proba(X_test)[:, 1] pour les prédictions de la classe positive."
      ],
      "metadata": {
        "id": "IVcfx6unXqNU"
      }
    },
    {
      "cell_type": "markdown",
      "source": [
        "Vous pouvez aussi vous inspirer de l'exemple suivant en appelant directement *RocCurveDisplay.from_estimator* (ne pas tracer celle de XGBoost):\n",
        "\n",
        "https://scikit-learn.org/stable/auto_examples/model_selection/plot_det.html#sphx-glr-auto-examples-model-selection-plot-det-py"
      ],
      "metadata": {
        "id": "9Hp8OIxjYfZ-"
      }
    },
    {
      "cell_type": "code",
      "source": [
        "models['SVM'].predict_proba(X_test)[:,1].shape"
      ],
      "metadata": {
        "id": "45doAGXqWi-U"
      },
      "execution_count": null,
      "outputs": []
    },
    {
      "cell_type": "code",
      "source": [
        "\n",
        "from sklearn.metrics import roc_curve, auc\n",
        "import matplotlib.pyplot as plt\n",
        "\n",
        "def plot_roc_curves(models, X_test, y_test):\n",
        "    plt.figure(figsize=(10, 8))\n",
        "\n",
        "    for name, model in models.items():\n",
        "        if hasattr(model, \"predict_proba\"):\n",
        "            # Calcul des probabilités\n",
        "            y_prob = model.predict_proba(X_test)[:, 1]\n",
        "\n",
        "            # Calcul de la courbe ROC\n",
        "            fpr, tpr, _ = roc_curve(y_test, y_prob)\n",
        "            roc_auc = auc(fpr, tpr)\n",
        "\n",
        "            # Plot\n",
        "            plt.plot(fpr, tpr, label=f'{name} (AUC = {roc_auc:.2f})')\n",
        "\n",
        "    plt.plot([0, 1], [0, 1], 'k--')\n",
        "    plt.xlabel('Taux de faux positifs')\n",
        "    plt.ylabel('Taux de vrais positifs')\n",
        "    plt.title('Courbes ROC pour tous les modèles')\n",
        "    plt.legend(loc='lower right')\n",
        "    plt.show()\n",
        "\n",
        "# Utilisation\n",
        "plot_roc_curves(models, X_test, y_test)"
      ],
      "metadata": {
        "id": "lSoWJjLSP_z-"
      },
      "execution_count": null,
      "outputs": []
    },
    {
      "cell_type": "code",
      "source": [
        "\n",
        "import matplotlib.pyplot as plt\n",
        "from sklearn.metrics import RocCurveDisplay, DetCurveDisplay\n",
        "\n",
        "def plot_roc_det_curves(models, X_train, X_test, y_train, y_test):\n",
        "   # Création de la figure avec deux sous-graphiques\n",
        "   fig, ax_roc = plt.subplots(1, 1, figsize=(15, 6))\n",
        "\n",
        "   # Couleurs pour chaque modèle\n",
        "   colors = ['#1f77b4', '#ff7f0e', '#2ca02c', '#d62728', '#9467bd', '#8c564b']\n",
        "\n",
        "   # Tracer les courbes pour chaque modèle\n",
        "   for (name, model), color in zip(models.items(), colors):\n",
        "       if hasattr(model, \"predict_proba\") and name!=\"XGBoost\":\n",
        "           # Tracer la courbe ROC\n",
        "           RocCurveDisplay.from_estimator(\n",
        "               model,\n",
        "               X_test,\n",
        "               y_test,\n",
        "               ax=ax_roc,\n",
        "               name=name,\n",
        "               color=color\n",
        "           )\n",
        "\n",
        "\n",
        "\n",
        "   # Personnalisation des graphiques\n",
        "   ax_roc.set_title(\"Courbes ROC (Receiver Operating Characteristic)\")\n",
        "   ax_roc.grid(True, linestyle='--', alpha=0.7)\n",
        "   ax_roc.set_xlabel(\"Taux de faux positifs\")\n",
        "   ax_roc.set_ylabel(\"Taux de vrais positifs\")\n",
        "\n",
        "\n",
        "   # Ajustement de la mise en page\n",
        "   plt.tight_layout()\n",
        "   plt.show()\n",
        "\n",
        "# Utilisation de la fonction\n",
        "plot_roc_det_curves(models, X_train, X_test, y_train, y_test)"
      ],
      "metadata": {
        "id": "X6Z4fwV3Zqh1"
      },
      "execution_count": null,
      "outputs": []
    },
    {
      "cell_type": "markdown",
      "source": [
        "\n",
        "\n",
        "\n",
        "model.predict_proba(X_test)[:, 1] renvoie les probabilités prédites par le modèle que chaque échantillon de X_test appartienne à la classe positive (classe 1). C'est un tableau de nombres entre 0 et 1.\n",
        "La courbe ROC est un graphique qui représente le taux de vrais positifs (TPR ou sensibilité) en fonction du taux de faux positifs (FPR ou 1 - spécificité) pour différents seuils de classification.\n",
        "Explication théorique :\n",
        "Chaque point sur la courbe ROC correspond à un seuil de classification spécifique appliqué aux probabilités prédites par model.predict_proba(X_test)[:, 1].\n",
        "Voici comment cela fonctionne étape par étape :\n",
        "\n",
        "\n",
        "Choix d'un seuil : On commence par choisir un seuil de probabilité entre 0 et 1. Par exemple, 0.1, 0.5, 0.9, etc.\n",
        "\n",
        "\n",
        "\n",
        "Classification selon le seuil : On compare chaque probabilité prédite dans model.predict_proba(X_test)[:, 1] avec le seuil choisi.\n",
        "\n",
        "\n",
        "Si la probabilité est supérieure ou égale au seuil, on prédit que l'échantillon appartient à la classe positive (1).\n",
        "Si la probabilité est inférieure au seuil, on prédit que l'échantillon appartient à la classe négative (0).\n",
        "\n",
        "\n",
        "\n",
        "Calcul du TPR et du FPR : Une fois toutes les prédictions effectuées avec le seuil choisi, on calcule :\n",
        "\n",
        "\n",
        "Taux de Vrais Positifs (TPR) ou Sensibilité : TP / (TP + FN). C'est la proportion d'échantillons réellement positifs qui ont été correctement prédits comme positifs.\n",
        "Taux de Faux Positifs (FPR) ou 1 - Spécificité : FP / (FP + TN). C'est la proportion d'échantillons réellement négatifs qui ont été incorrectement prédits comme positifs.\n",
        "\n",
        "\n",
        "\n",
        "Représentation sur la courbe ROC : Le couple (FPR, TPR) calculé à l'étape 3 définit un point sur la courbe ROC. L'axe des abscisses représente le FPR, et l'axe des ordonnées représente le TPR.\n",
        "\n",
        "\n",
        "\n",
        "Répétition pour différents seuils : On répète les étapes 1 à 4 pour différents seuils de probabilité (généralement entre 0 et 1, avec un pas plus ou moins fin). Chaque seuil donne un point différent sur la courbe ROC. En reliant ces points, on obtient la courbe ROC.\n",
        "\n",
        "\n",
        "Exemple concret :\n",
        "Imaginons que model.predict_proba(X_test)[:, 1] pour trois échantillons soit : [0.2, 0.6, 0.8].\n",
        "\n",
        "Seuil = 0.5 :\n",
        "\n",
        "Prédictions : [0, 1, 1] (car 0.2 < 0.5, 0.6 >= 0.5, 0.8 >= 0.5)\n",
        "On calcule ensuite le TPR et le FPR en comparant ces prédictions avec les vraies étiquettes de y_test.\n",
        "\n",
        "\n",
        "Seuil = 0.7 :\n",
        "\n",
        "Prédictions : [0, 0, 1] (car 0.2 < 0.7, 0.6 < 0.7, 0.8 >= 0.7)\n",
        "On calcule à nouveau le TPR et le FPR.\n",
        "\n",
        "\n",
        "Chaque seuil (0.5, 0.7, etc.) donne un point différent sur la courbe ROC.\n",
        "Cas extrêmes :\n",
        "\n",
        "Seuil = 0 : Tout est prédit comme positif. FPR = 1 et TPR = 1. Le point est en haut à droite (1, 1).\n",
        "Seuil = 1 : Tout est prédit comme négatif. FPR = 0 et TPR = 0. Le point est en bas à gauche (0, 0).\n",
        "En résumé :\n",
        "Chaque point de la courbe ROC représente la performance du classificateur pour un seuil de probabilité spécifique. En traçant la courbe, on visualise le compromis entre les vrais positifs et les faux positifs pour tous les seuils possibles, ce qui permet d'évaluer la performance globale du modèle et de choisir un seuil optimal en fonction des besoins de l'application. La courbe ROC est donc une représentation visuelle de l'effet des différents seuils de probabilité sur les performances du classifieur."
      ],
      "metadata": {
        "id": "1X0_bj-Jbe_v"
      }
    },
    {
      "cell_type": "markdown",
      "source": [
        "Adaptée aux classes déséquilibrées : accuracy trompeuse"
      ],
      "metadata": {
        "id": "lYmd1R_IeavK"
      }
    },
    {
      "cell_type": "code",
      "source": [
        "\n",
        "import numpy as np\n",
        "import matplotlib.pyplot as plt\n",
        "from sklearn.datasets import make_classification\n",
        "from sklearn.model_selection import train_test_split\n",
        "from sklearn.linear_model import LogisticRegression\n",
        "from sklearn.metrics import accuracy_score, roc_auc_score, roc_curve\n",
        "\n",
        "# Créer un jeu de données déséquilibré\n",
        "X, y = make_classification(n_samples=10000, n_features=2, n_informative=2,\n",
        "                           n_redundant=0, weights=[0.99, 0.01], random_state=42) # 99% classe 0, 1% classe 1\n",
        "\n",
        "# Diviser les données\n",
        "X_train, X_test, y_train, y_test = train_test_split(X, y, test_size=0.3, random_state=42)\n",
        "\n",
        "# Entraîner un modèle de régression logistique\n",
        "model = LogisticRegression()\n",
        "model.fit(X_train, y_train)\n",
        "\n",
        "# Prédictions\n",
        "y_pred = model.predict(X_test)\n",
        "y_prob = model.predict_proba(X_test)[:, 1] # Probabilités pour la classe 1\n",
        "\n",
        "# Calculer l'accuracy\n",
        "accuracy = accuracy_score(y_test, y_pred)\n",
        "print(f\"Accuracy : {accuracy}\")\n",
        "\n",
        "# Calculer l'AUC\n",
        "auc = roc_auc_score(y_test, y_prob)\n",
        "print(f\"AUC : {auc}\")\n",
        "\n",
        "# Tracer la courbe ROC\n",
        "fpr, tpr, thresholds = roc_curve(y_test, y_prob)\n",
        "plt.figure()\n",
        "plt.plot(fpr, tpr, color='darkorange', lw=2, label=f'ROC curve (area = {auc:.2f})')\n",
        "plt.plot([0, 1], [0, 1], color='navy', lw=2, linestyle='--')\n",
        "plt.xlim([0.0, 1.0])\n",
        "plt.ylim([0.0, 1.05])\n",
        "plt.xlabel('False Positive Rate')\n",
        "plt.ylabel('True Positive Rate')\n",
        "plt.title('Receiver Operating Characteristic')\n",
        "plt.legend(loc=\"lower right\")\n",
        "plt.show()\n",
        "\n",
        "# Exemple de classifieur naïf qui prédit toujours la classe majoritaire:\n",
        "y_pred_naive = np.zeros_like(y_test)\n",
        "accuracy_naive = accuracy_score(y_test, y_pred_naive)\n",
        "print(f\"Accuracy Naïve (prédit toujours la classe 0): {accuracy_naive}\")\n",
        "auc_naive = roc_auc_score(y_test, np.zeros_like(y_test)) #AUC n'est pas vraiment définie ici.\n",
        "print(f\"AUC Naïve (prédit toujours la classe 0): {auc_naive}\")"
      ],
      "metadata": {
        "id": "biI_8kfzfmCr"
      },
      "execution_count": null,
      "outputs": []
    },
    {
      "cell_type": "markdown",
      "source": [
        "###**8-** Implémentez une méthode d'ensemble qui combine les prédictions de tous les modèles (par vote majoritaire ou moyenne des probabilités).\n",
        "\n",
        "```python\n",
        "from sklearn.ensemble import VotingClassifier\n",
        "```"
      ],
      "metadata": {
        "id": "RLOwdGdxc95D"
      }
    },
    {
      "cell_type": "code",
      "source": [
        "del models[\"XGBoost\"]"
      ],
      "metadata": {
        "id": "deEXx6pZkt5a"
      },
      "execution_count": null,
      "outputs": []
    },
    {
      "cell_type": "code",
      "source": [
        "\n",
        "from sklearn.ensemble import VotingClassifier\n",
        "\n",
        "def create_voting_ensemble(models):\n",
        "    # Création des estimateurs pour le voting classifier\n",
        "    estimators = [(name, model) for name, model in models.items()]\n",
        "\n",
        "    # Création du voting classifier\n",
        "    voting_clf = VotingClassifier(\n",
        "        estimators=estimators,\n",
        "        voting='hard'  # 'soft' pour la moyenne des probabilités, 'hard' pour le vote majoritaire\n",
        "    )\n",
        "\n",
        "    return voting_clf\n",
        "\n",
        "# Création et entraînement de l'ensemble\n",
        "ensemble = create_voting_ensemble(models)\n",
        "ensemble.fit(X_train, y_train)\n",
        "\n",
        "# Évaluation\n",
        "ensemble_score = ensemble.score(X_test, y_test)\n",
        "print(f\"Score de l'ensemble : {ensemble_score:.3f}\")"
      ],
      "metadata": {
        "id": "F8jVRU6tkN-o"
      },
      "execution_count": null,
      "outputs": []
    },
    {
      "cell_type": "markdown",
      "source": [
        "##**9-** Remplacez *ensemble* par l'instance de *VotingClassifier*. Exécutez le code. Expliquez le but du code et comment il y arrive."
      ],
      "metadata": {
        "id": "hCIvDSVxrElU"
      }
    },
    {
      "cell_type": "code",
      "source": [
        "\n",
        "\n",
        "x_min, x_max = X[:, 0].min() - 1, X[:, 0].max() + 1\n",
        "y_min, y_max = X[:, 1].min() - 1, X[:, 1].max() + 1\n",
        "xx, yy = np.meshgrid(np.arange(x_min, x_max, 0.1), np.arange(y_min, y_max, 0.1))\n",
        "\n",
        "Z = ensemble.predict(np.c_[xx.ravel(), yy.ravel()])\n",
        "Z = Z.reshape(xx.shape)\n",
        "\n",
        "\n",
        "plt.figure()\n",
        "plt.contourf(xx, yy, Z, alpha=0.4) # alpha pour la transparence\n",
        "plt.scatter(X_test_scaled[:, 0], X_test_scaled[:, 1], c=y_test, edgecolors='k') # Afficher les points de données\n",
        "plt.title(\"\")\n",
        "plt.show()"
      ],
      "metadata": {
        "id": "ao0cUUaql6tA"
      },
      "execution_count": null,
      "outputs": []
    },
    {
      "cell_type": "markdown",
      "source": [
        "###**10-** Analyse biais variance : on va faire l'analyse en divisant les données en 5 partie."
      ],
      "metadata": {
        "id": "CUZbguPABMvp"
      }
    },
    {
      "cell_type": "markdown",
      "source": [
        "Expliquer rapidement ce que le code réalise et ce qu'il montre."
      ],
      "metadata": {
        "id": "fjWV1N99BQVR"
      }
    },
    {
      "cell_type": "code",
      "source": [
        "# Fonction pour visualiser les indices de validation croisée\n",
        "def plot_cv_indices(cv, X, y, ax, n_splits):\n",
        "    n_samples = X.shape[0]\n",
        "    for i, (train, test) in enumerate(cv.split(X, y)):\n",
        "        indices = np.arange(n_samples)\n",
        "\n",
        "        # Points d'entraînement\n",
        "        ax.scatter(indices[train], [i + 0.5] * len(train),\n",
        "                   color=\"blue\", edgecolor=\"k\", s=25, label=\"Train\" if i == 0 else None)\n",
        "        # Points de test\n",
        "        ax.scatter(indices[test], [i + 0.5] * len(test),\n",
        "                   color=\"red\", edgecolor=\"k\", s=25, label=\"Val\" if i == 0 else None)\n",
        "\n",
        "    ax.set_title(\"Validation croisée\")\n",
        "    ax.set_xlabel(\"Index des échantillons\")\n",
        "    ax.set_ylabel(\"Fold\")\n",
        "    ax.set_yticks(np.arange(n_splits) + 0.5)\n",
        "    ax.set_yticklabels([f\"Fold {i+1}\" for i in range(n_splits)])\n",
        "    ax.grid(True)\n",
        "    ax.legend(loc=\"upper right\")\n",
        "\n",
        "\n",
        "# Visualisation des folds\n",
        "fig, ax = plt.subplots(figsize=(10, 6))\n",
        "kf = KFold(n_splits=5, shuffle=True, random_state=42)\n",
        "plot_cv_indices(kf, X_train[0:50], y_train[0:50], ax, n_splits=5)\n",
        "plt.tight_layout()\n",
        "plt.show()"
      ],
      "metadata": {
        "id": "DnNf-vPh7S95"
      },
      "execution_count": null,
      "outputs": []
    },
    {
      "cell_type": "markdown",
      "source": [
        " Le début du code à réaliser est\n",
        "\n",
        "```python\n",
        "\n",
        "def bias_variance_decomp_classification(model, X, y, n_splits=5):\n",
        "\n",
        "    kf = KFold(n_splits=n_splits, shuffle=True, random_state=42)\n",
        "    predictions = []\n",
        "    actual = []\n",
        "    \n",
        "    # Collecte des prédictions pour chaque fold\n",
        "    for fold, (train_idx, val_idx) in enumerate(kf.split(X)):\n",
        "        X_train_fold, X_val_fold = X[train_idx], X[val_idx]\n",
        "        y_train_fold, y_val_fold = y[train_idx], y[val_idx]\n",
        "```\n",
        "\n",
        "On calculera ensuite le biais (erreur systématique) et la variance (moyenne de la variance de chaque modèle) grace à numpy."
      ],
      "metadata": {
        "id": "522T3wnztfSq"
      }
    },
    {
      "cell_type": "code",
      "source": [
        "\n",
        "def bias_variance_decomp_classification(model, X, y, n_splits=5):\n",
        "    kf = KFold(n_splits=n_splits, shuffle=True, random_state=42)\n",
        "    predictions = []\n",
        "    actual = []\n",
        "\n",
        "    # Collecte des prédictions pour chaque fold\n",
        "    for fold, (train_idx, val_idx) in enumerate(kf.split(X)):\n",
        "        X_train_fold, X_val_fold = X[train_idx], X[val_idx]\n",
        "        y_train_fold, y_val_fold = y[train_idx], y[val_idx]\n",
        "\n",
        "        model.fit(X_train_fold, y_train_fold)\n",
        "\n",
        "        # Prédiction des probabilités sur le fold de validation\n",
        "        pred = model.predict(X_val_fold)\n",
        "\n",
        "        predictions.append(pred)\n",
        "        actual.append(y_val_fold)\n",
        "\n",
        "    # Conversion en arrays\n",
        "    predictions = np.array(predictions)\n",
        "    actual = np.array(actual)\n",
        "\n",
        "    # Calcul du biais (erreur systématique)\n",
        "    # Moyenne des erreurs de classification\n",
        "    bias = np.mean([np.mean(np.abs(a - p)) for a, p in zip(actual, predictions)])\n",
        "\n",
        "    # Calcul de la variance (variabilité des prédictions)\n",
        "    # Variance moyenne des prédictions à travers les folds\n",
        "    variance = np.mean([np.var(predictions[:, i]) for i in range(predictions.shape[1])])\n",
        "\n",
        "    return bias, variance"
      ],
      "metadata": {
        "id": "qdzWGCEasiQM"
      },
      "execution_count": null,
      "outputs": []
    },
    {
      "cell_type": "code",
      "source": [
        "for name, model in models.items():\n",
        "    bias, variance = bias_variance_decomp_classification(model, X_train, y_train, n_splits=5)\n",
        "    print(name,bias,variance)"
      ],
      "metadata": {
        "id": "3lWIe80Ax1eu"
      },
      "execution_count": null,
      "outputs": []
    },
    {
      "cell_type": "markdown",
      "source": [
        "Compromis biais-variance :\n",
        "L'analyse empirique montre que :\n",
        "\n",
        "\n",
        "Random Forest et XGBoost présentent le meilleur équilibre biais-variance\n",
        "SVM montre un biais plus élevé mais une variance plus faible\n",
        "Les réseaux de neurones (MLP) ont tendance à avoir une variance plus élevée\n",
        "KNN montre un biais plus élevé aux frontières de décision :\n",
        "\n",
        "AdaBoost montre **la variance la plus élevée ce qui est logique car il est sensible aux variations dans les données**"
      ],
      "metadata": {
        "id": "SjaR4nittIuZ"
      }
    },
    {
      "cell_type": "markdown",
      "source": [
        "\n",
        "Vous demandez ce que représente un fort biais et une forte variance dans le contexte de l'apprentissage automatique, et plus précisément en lien avec la fonction de décomposition biais-variance que vous avez fournie.\n",
        "Biais (Bias) :\n",
        "Le biais représente l'erreur systématique introduite par les approximations faites par le modèle pour simplifier le problème réel. Un modèle avec un fort biais fait des hypothèses simplificatrices sur les données, ce qui l'empêche de capturer la complexité sous-jacente des données.\n",
        "\n",
        "Représentation : Un modèle avec un fort biais a tendance à sous-apprendre (underfitting) les données. Il ne parvient pas à bien s'ajuster aux données d'entraînement, et ses performances sont mauvaises aussi bien sur les données d'entraînement que sur les données de test.\n",
        "Conséquences :\n",
        "\n",
        "Erreur élevée sur les données d'entraînement et de test.\n",
        "Simplification excessive de la relation entre les caractéristiques et la cible. Le modèle ignore des aspects importants des données.\n",
        "Exemples : Un modèle linéaire appliqué à des données non linéaires, un arbre de décision avec une profondeur très limitée.\n",
        "\n",
        "\n",
        "Dans votre fonction : Un biais élevé signifie que la différence moyenne entre les valeurs réelles (actual) et les prédictions (predictions) est importante, en moyenne sur les différents folds de validation croisée.\n",
        "Variance (Variance) :\n",
        "La variance représente la sensibilité du modèle aux petites fluctuations dans les données d'entraînement. Un modèle avec une forte variance est très sensible aux détails des données d'entraînement, y compris au bruit.\n",
        "\n",
        "Représentation : Un modèle avec une forte variance a tendance à sur-apprendre (overfitting) les données. Il s'ajuste très bien aux données d'entraînement, mais ses performances sont mauvaises sur les données de test (données non vues pendant l'entraînement).\n",
        "Conséquences :\n",
        "\n",
        "Bonnes performances sur les données d'entraînement, mais mauvaises performances sur les données de test.\n",
        "Modèle trop complexe qui capture le bruit des données.\n",
        "Exemples : Un arbre de décision avec une profondeur très importante, un réseau de neurones avec beaucoup de paramètres entraîné sur un petit dataset.\n",
        "\n",
        "\n",
        "Dans votre fonction : Une forte variance signifie que les prédictions varient beaucoup entre les différents folds de validation croisée. La variance moyenne des prédictions à travers les folds est élevée.\n",
        "Le compromis biais-variance (Bias-Variance Tradeoff) :\n",
        "L'objectif est de trouver un équilibre entre le biais et la variance. Un modèle idéal a un faible biais (il capture bien la relation sous-jacente) et une faible variance (il est peu sensible aux fluctuations des données d'entraînement).\n",
        "\n",
        "Fort biais, faible variance : Sous-apprentissage. Le modèle est trop simple.\n",
        "Faible biais, forte variance : Sur-apprentissage. Le modèle est trop complexe.\n",
        "Faible biais, faible variance : Situation idéale. Bon équilibre entre complexité et généralisation.\n",
        "En lien avec votre code :\n",
        "Votre fonction bias_variance_decomp_classification calcule une estimation du biais et de la variance en utilisant la validation croisée K-fold. En analysant les valeurs retournées par cette fonction pour différents modèles, vous pouvez comparer leur position sur le compromis biais-variance :\n",
        "\n",
        "Si un modèle a un biais élevé et une faible variance, cela suggère qu'il est trop simple et qu'il faut augmenter sa complexité (par exemple, en ajoutant des caractéristiques, en utilisant un modèle plus complexe, etc.).\n",
        "Si un modèle a un faible biais et une forte variance, cela suggère qu'il est trop complexe et qu'il faut le simplifier (par exemple, en utilisant la régularisation, en réduisant le nombre de caractéristiques, en utilisant un modèle moins complexe, etc.).\n",
        "En résumé, un fort biais indique un modèle trop simple qui ne capture pas les tendances importantes des données, tandis qu'une forte variance indique un modèle trop complexe qui s'adapte trop bien au bruit des données d'entraînement. L'objectif est de trouver un juste milieu pour obtenir un modèle qui généralise bien sur des données non vues."
      ],
      "metadata": {
        "id": "mYBf3Ujw2ETG"
      }
    },
    {
      "cell_type": "markdown",
      "source": [
        "##**11-** Si on veut estimer la sensibilité des modèles face à des données nouvelles plus précisément, quelle statistique peut on utiliser? Implémentez là."
      ],
      "metadata": {
        "id": "znl0YFUAJmpH"
      }
    },
    {
      "cell_type": "code",
      "source": [
        "\n",
        "def bias_variance_decomp_classification(model, X, y, n_splits=5):\n",
        "    kf = KFold(n_splits=n_splits, shuffle=True, random_state=42)\n",
        "    predictions = []\n",
        "    actual = []\n",
        "\n",
        "    # Collecte des prédictions pour chaque fold\n",
        "    for fold, (train_idx, val_idx) in enumerate(kf.split(X)):\n",
        "        X_train_fold, X_val_fold = X[train_idx], X[val_idx]\n",
        "        y_train_fold, y_val_fold = y[train_idx], y[val_idx]\n",
        "\n",
        "        model.fit(X_train_fold, y_train_fold)\n",
        "\n",
        "        # Prédiction des probabilités sur le fold de validation\n",
        "        pred = model.predict(X_val_fold)\n",
        "\n",
        "        predictions.append(pred)\n",
        "        actual.append(y_val_fold)\n",
        "\n",
        "    # Conversion en arrays\n",
        "    predictions = np.array(predictions)\n",
        "    actual = np.array(actual)\n",
        "\n",
        "    # Calcul du biais (erreur systématique)\n",
        "    # Moyenne des erreurs de classification\n",
        "    bias = np.mean([np.mean(np.abs(a - p)) for a, p in zip(actual, predictions)])\n",
        "\n",
        "    # Calcul de la variance (variabilité des prédictions)\n",
        "    # Variance moyenne des prédictions à travers les folds\n",
        "    fold_variances = [np.var(predictions[:, i]) for i in range(predictions.shape[1])]\n",
        "    variance_mean = np.mean(fold_variances)\n",
        "    variance_of_variance = np.var(fold_variances)  # Ajout de la variance des variances\n",
        "\n",
        "    return bias, variance_mean, variance_of_variance"
      ],
      "metadata": {
        "id": "BHklc5ewLYi3"
      },
      "execution_count": null,
      "outputs": []
    },
    {
      "cell_type": "code",
      "source": [
        "\n",
        "for name, model in models.items():\n",
        "    bias, variance_mean, variance_of_variance = bias_variance_decomp_classification(model, X_train, y_train, n_splits=5)\n",
        "    print(f\"{name}: Bias={bias:.4f}, Variance Mean={variance_mean:.4f}, Variance of Variance={variance_of_variance:.4f}\")"
      ],
      "metadata": {
        "id": "dj2xtjGGLhTp"
      },
      "execution_count": null,
      "outputs": []
    },
    {
      "cell_type": "markdown",
      "source": [
        "\n",
        "Les résultats que vous obtenez (Biais et Variance Moyenne relativement faibles, et une Variance de la Variance encore plus faible) sont tout à fait cohérents, et indiquent même un comportement plutôt sain pour vos modèles, surtout compte tenu du fait que vous utilisez un dataset synthétique avec seulement 500 exemples d'entrainement. Voici une interprétation plus détaillée :\n",
        "Interprétation des résultats :\n",
        "\n",
        "Biais (Bias) :\n",
        "\n",
        "Le Random Forest a le biais le plus faible (0.0886), ce qui est typique des modèles d'ensemble qui combinent plusieurs arbres de décision. Cela suggère qu'il capture bien les relations dans les données.\n",
        "Le MLP a le biais le plus élevé (0.1629), ce qui est aussi cohérent. Les réseaux de neurones, même simples, peuvent avoir plus de difficulté à généraliser avec peu de données, ce qui se traduit par un biais potentiellement plus élevé.\n",
        "Le SVM et AdaBoost se situent entre les deux.\n",
        "\n",
        "\n",
        "Variance Moyenne (Variance Mean) :\n",
        "\n",
        "Les variances moyennes sont relativement proches pour tous les modèles (autour de 0.20), ce qui indique une variabilité similaire dans les prédictions entre les différents folds de validation croisée.\n",
        "AdaBoost a une variance légèrement plus élevée (0.2091), ce qui est également attendu car AdaBoost est sensible aux données bruitées et peut sur-apprendre si les paramètres ne sont pas bien réglés.\n",
        "\n",
        "\n",
        "Variance de la Variance (Variance of Variance) :\n",
        "\n",
        "Les valeurs de la variance de la variance sont très faibles (de l'ordre de 0.002 à 0.004). C'est un signe positif. Cela signifie que l'estimation de la variance est stable d'un fold à l'autre. En d'autres termes, la variabilité des prédictions ne change pas beaucoup entre les différents sous-ensembles des données d'entraînement utilisés pour la validation croisée.\n",
        "\n",
        "\n",
        "Cohérence générale :\n",
        "L'ensemble des résultats est cohérent avec les propriétés connues de ces modèles :\n",
        "\n",
        "Les Random Forests sont connus pour avoir un faible biais et une variance modérée (grâce au bagging et à la sélection aléatoire de caractéristiques).\n",
        "Les SVM, avec les bons paramètres, peuvent atteindre un bon équilibre entre biais et variance.\n",
        "AdaBoost peut avoir une variance plus élevée, surtout s'il est utilisé avec des arbres de décision profonds ou sur des données bruitées.\n",
        "Les MLP, avec peu de données, peuvent avoir un biais plus élevé.\n",
        "Le fait que la variance de la variance soit faible pour tous les modèles est un bon signe de la stabilité de l'évaluation.\n",
        "Que faire avec ces résultats ?\n",
        "\n",
        "Random Forest : Semble être le meilleur compromis biais-variance dans ce cas.\n",
        "SVM : Offre également une bonne performance.\n",
        "AdaBoost : Pourrait bénéficier d'un réglage des hyperparamètres pour réduire sa variance.\n",
        "MLP : Pourrait bénéficier de plus de données d'entraînement ou d'une simplification de son architecture pour réduire son biais.\n",
        "En conclusion :\n",
        "Les résultats que vous avez obtenus sont cohérents avec la théorie et les propriétés des modèles utilisés. Les faibles valeurs de la variance de la variance indiquent que l'estimation de la variance est fiable. L'analyse du biais et de la variance vous permet de choisir le modèle le plus approprié et de suggérer des améliorations potentielles."
      ],
      "metadata": {
        "id": "EpKbV0tsM5EH"
      }
    },
    {
      "cell_type": "code",
      "source": [],
      "metadata": {
        "id": "L_W_AvSU2Db5"
      },
      "execution_count": null,
      "outputs": []
    }
  ]
}